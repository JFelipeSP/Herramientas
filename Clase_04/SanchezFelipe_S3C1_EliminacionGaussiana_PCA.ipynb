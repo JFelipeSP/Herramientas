{
  "cells": [
    {
      "cell_type": "markdown",
      "metadata": {
        "id": "2iRl_ogVuqSn"
      },
      "source": [
        "ELIMINACIÓN GAUSSIANA"
      ]
    },
    {
      "cell_type": "code",
      "execution_count": 13,
      "metadata": {
        "colab": {
          "base_uri": "https://localhost:8080/"
        },
        "id": "b6l4X4-Iu3cq",
        "outputId": "30311ce8-b868-4b85-f2fb-efaf6b8c580a"
      },
      "outputs": [
        {
          "name": "stdout",
          "output_type": "stream",
          "text": [
            "[[ 1.         -0.68973867 -1.49276205]\n",
            " [ 0.          1.          1.20707282]\n",
            " [-0.         -0.          1.        ]]\n",
            "[[ 2.25664714]\n",
            " [-2.57831183]\n",
            " [-1.52610544]]\n"
          ]
        }
      ],
      "source": [
        "#Escriba un código de eliminación Gaussiana para resolver el sistema Ax=b.\n",
        "\n",
        "import numpy as np\n",
        "N=np.random.randint(3, 7)\n",
        "Arreglo=(np.random.random((N,N))*10.0)-5.0\n",
        "b=(np.random.random((N,1))*10.0)-5.0\n",
        "\n",
        "for i in range(N):\n",
        "    b[i] = b[i]/Arreglo[i,i]\n",
        "    Arreglo[i,:] = Arreglo[i,:]/Arreglo[i,i]\n",
        "    for j in range(i+1,N):\n",
        "        b[j] = b[j] - b[i]*Arreglo[j,i]\n",
        "        Arreglo[j,:] = Arreglo[j,:] - Arreglo[j,i]*Arreglo[i,:]\n",
        "\n",
        "\n",
        "\n",
        "\n",
        "\n",
        "print(Arreglo)\n",
        "print(b)\n",
        "#compare sus resultados con el paquete de numpy:\n",
        "#https://numpy.org/doc/stable/reference/generated/numpy.linalg.solve.html"
      ]
    },
    {
      "cell_type": "code",
      "execution_count": null,
      "metadata": {},
      "outputs": [],
      "source": []
    }
  ],
  "metadata": {
    "colab": {
      "provenance": []
    },
    "kernelspec": {
      "display_name": "Python 3",
      "language": "python",
      "name": "python3"
    },
    "language_info": {
      "codemirror_mode": {
        "name": "ipython",
        "version": 3
      },
      "file_extension": ".py",
      "mimetype": "text/x-python",
      "name": "python",
      "nbconvert_exporter": "python",
      "pygments_lexer": "ipython3",
      "version": "3.9.12 (main, Mar 24 2022, 14:26:47) \n[GCC 11.2.0]"
    },
    "vscode": {
      "interpreter": {
        "hash": "767d51c1340bd893661ea55ea3124f6de3c7a262a8b4abca0554b478b1e2ff90"
      }
    }
  },
  "nbformat": 4,
  "nbformat_minor": 0
}
