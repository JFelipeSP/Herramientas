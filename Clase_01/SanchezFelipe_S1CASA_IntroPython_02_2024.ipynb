{
 "cells": [
  {
   "cell_type": "markdown",
   "metadata": {
    "id": "GzYes-TBF1c6"
   },
   "source": [
    "PYTHON: INTRODUCCION (O REPASO)"
   ]
  },
  {
   "cell_type": "markdown",
   "metadata": {
    "id": "hMcirD3jFWtm"
   },
   "source": [
    "Tutoriales Python:\n",
    "\n",
    "learnpython.org\n",
    "\n",
    "https://www.geeksforgeeks.org/python-programming-language/?ref=lbp\n",
    "\n",
    "https://argentinaenpython.com/quiero-aprender-python/TutorialPython3.pdf\n",
    "\n",
    "https://www.youtube.com/playlist?list=PLU8oAlHdN5BlvPxziopYZRd55pdqFwkeS\n",
    "\n",
    "https://www.freecodecamp.org/learn/scientific-computing-with-python/#python-for-everybody\n",
    "\n"
   ]
  },
  {
   "cell_type": "markdown",
   "metadata": {
    "id": "N914VLVOFx5D"
   },
   "source": [
    "IMPRIMIR EN LA TERMINAL:"
   ]
  },
  {
   "cell_type": "code",
   "execution_count": null,
   "metadata": {
    "colab": {
     "base_uri": "https://localhost:8080/"
    },
    "id": "CQr7a6LzGsO3",
    "outputId": "b4bf92fd-abaf-4333-b015-d52a5cf9561c"
   },
   "outputs": [
    {
     "name": "stdout",
     "output_type": "stream",
     "text": [
      "hola mundo\n"
     ]
    }
   ],
   "source": [
    "#primer codigo: \"hola mundo\"\n",
    "print(\"hola mundo\")"
   ]
  },
  {
   "cell_type": "markdown",
   "metadata": {
    "id": "jSgIcHQZGxtd"
   },
   "source": [
    "TIPOS DE VARIABLES:"
   ]
  },
  {
   "cell_type": "code",
   "execution_count": null,
   "metadata": {
    "colab": {
     "base_uri": "https://localhost:8080/"
    },
    "id": "CxVuKuoPGuba",
    "outputId": "b6566335-efc2-4640-bf31-45305b40c78f"
   },
   "outputs": [
    {
     "name": "stdout",
     "output_type": "stream",
     "text": [
      "variable:  3\n",
      "tipo de variable:  <class 'int'>\n"
     ]
    }
   ],
   "source": [
    "#enteras\n",
    "mi_ent=3\n",
    "\n",
    "#flotates\n",
    "mi_float=4.0\n",
    "\n",
    "#boleanas\n",
    "mi_bol=True\n",
    "\n",
    "#caracteres\n",
    "mi_car = \"hola\"\n",
    "mi_car2='hola2'\n",
    "\n",
    "print(\"variable: \", mi_ent)\n",
    "print(\"tipo de variable: \", type(mi_ent))\n",
    " #mini ejercicio: impriman las otras variables y su tipo"
   ]
  },
  {
   "cell_type": "markdown",
   "metadata": {
    "id": "I5pvAC9aHaZS"
   },
   "source": [
    "OPERACIONES MATEMÁTICAS BÁSICAS"
   ]
  },
  {
   "cell_type": "code",
   "execution_count": null,
   "metadata": {
    "id": "Xh-gb4u6G8de"
   },
   "outputs": [],
   "source": [
    "#operaciones basicas entre variables\n",
    "suma = mi_ent + mi_float\n",
    "#print(suma)\n",
    "\n",
    "suma2= mi_car + \" \" + mi_car2\n",
    "#print(suma2)\n",
    "\n",
    "#\tNO FUNCIONA\n",
    "#suma_que_no_funciona = mi_ent + mi_car\n",
    "#print(suma_que_no_funciona)\n",
    "\n",
    "#mini ejercicio: descomenten lo anterior y entiendan cuál es el error"
   ]
  },
  {
   "cell_type": "markdown",
   "metadata": {
    "id": "K9bsQcGpIPKr"
   },
   "source": [
    "LISTAS y APPEND"
   ]
  },
  {
   "cell_type": "code",
   "execution_count": null,
   "metadata": {
    "colab": {
     "base_uri": "https://localhost:8080/"
    },
    "id": "jAyQouiBHjdU",
    "outputId": "9efdf52a-43a5-4f3a-bfe4-bf0237ab730c"
   },
   "outputs": [
    {
     "name": "stdout",
     "output_type": "stream",
     "text": [
      "mi lista:  [27.0, 12, 45, 5.2, 17, 22]\n",
      "primer elemento:  27.0\n",
      "primer elemento:  45\n",
      "mi_lista2:  [12, 34, 56, 67, 87, 65, 45.0]\n",
      "mi_lista3:  [12, 34.0, 'gato', True, 34.56]\n",
      "suma de mi_lista2 y mi_lista3:  [12, 34, 56, 67, 87, 65, 45.0, 12, 34.0, 'gato', True, 34.56]\n",
      "mi_lista2 x 2:  [12, 34, 56, 67, 87, 65, 45.0, 12, 34, 56, 67, 87, 65, 45.0, 12, 34, 56, 67, 87, 65, 45.0]\n"
     ]
    }
   ],
   "source": [
    "#listas\n",
    "#defino lista vacia:\n",
    "mi_lista=[]\n",
    "#print(mi_lista)\n",
    "\n",
    "#le agrego un elemento\n",
    "mi_lista.append(27.0)\n",
    "#print(mi_lista)\n",
    "\n",
    "#le agrego otro elemento\n",
    "mi_lista.append(12)\n",
    "#print(mi_lista)\n",
    "\n",
    "#le agrego varios elementos\n",
    "mi_lista.append(45)\n",
    "mi_lista.append(5.2)\n",
    "mi_lista.append(17)\n",
    "mi_lista.append(22)\n",
    "\n",
    "print(\"mi lista: \", mi_lista)\n",
    "\n",
    "#imprimo el primer elemento de la lista\n",
    "print(\"primer elemento: \", mi_lista[0])\n",
    "\n",
    "#mini ejercicio: imprima el tercer elemento:\n",
    "print(\"primer elemento: \", mi_lista[2])\n",
    "\n",
    "#otra forma de definir listas:\n",
    "mi_lista2=[12,34,56,67,87,65,45.0]\n",
    "print(\"mi_lista2: \", mi_lista2)\n",
    "\n",
    "#las listas pueden tener todo tipo de variables\n",
    "mi_lista3=[12, 34.0, \"gato\", True, 34.56]\n",
    "print(\"mi_lista3: \", mi_lista3)\n",
    "\n",
    "#mini ejercicio: qué pasa si sumo mi_lista2 con mi_lista3? imprima el resultado\n",
    "mi_suma=mi_lista2 + mi_lista3\n",
    "print(\"suma de mi_lista2 y mi_lista3: \", mi_suma)\n",
    "\n",
    "#mini ejercicio: qué pasa si multiplico mi_lista2 por 3\n",
    "prod_lista= mi_lista2*3\n",
    "print(\"mi_lista2 x 2: \", prod_lista)\n",
    "\n",
    "#mini ejercicio: qué pasa si multiplico mi_lista por mi_lista2?\n",
    "#prod_listas = mi_lista*mi_lista2"
   ]
  },
  {
   "cell_type": "markdown",
   "metadata": {
    "id": "7uNtMkzCKwiY"
   },
   "source": [
    "OPERADORES ARITMÉTICOS BÁSICOS"
   ]
  },
  {
   "cell_type": "code",
   "execution_count": null,
   "metadata": {
    "colab": {
     "base_uri": "https://localhost:8080/"
    },
    "id": "sybK7-0yIyDJ",
    "outputId": "f3c5931e-ff1c-472f-bec2-738c80a783d9"
   },
   "outputs": [
    {
     "name": "stdout",
     "output_type": "stream",
     "text": [
      "1.0\n",
      "0.0\n"
     ]
    }
   ],
   "source": [
    "#operadores aritmeticos basicos\n",
    "a=12.5\n",
    "b=3\n",
    "c=15\n",
    "#suma\n",
    "suma=a+b\n",
    "#resta\n",
    "resta=a-b\n",
    "#producto\n",
    "a*b\n",
    "#division\n",
    "a/b\n",
    "#potencia\n",
    "a**b\n",
    "#modulo\n",
    "a%b\n",
    "\n",
    "#mini ejercicio: imprima los resultados de las operaciones anteriores\n",
    "\n",
    "# errores numéricos\n",
    "suma1=1+(1.5e56-1.5e56)\n",
    "suma2=(1+1.5e56)-1.5e56\n",
    "print(suma1)\n",
    "print(suma2)"
   ]
  },
  {
   "cell_type": "markdown",
   "metadata": {
    "id": "AyLJKcIri9l0"
   },
   "source": [
    "OPERADORES BÁSICOS DE COMPARACIÓN"
   ]
  },
  {
   "cell_type": "code",
   "execution_count": null,
   "metadata": {
    "colab": {
     "base_uri": "https://localhost:8080/"
    },
    "id": "faCtntPnK1al",
    "outputId": "70950eb8-8cac-4bb3-c4c1-642a9eead286"
   },
   "outputs": [
    {
     "data": {
      "text/plain": [
       "False"
      ]
     },
     "execution_count": 19,
     "metadata": {},
     "output_type": "execute_result"
    }
   ],
   "source": [
    "#operadores de comparacion basicos\n",
    "a=12.5\n",
    "b=3\n",
    "c=15\n",
    "#igual que\n",
    "a==b\n",
    "#diferente de\n",
    "a!=b\n",
    "#mayor que\n",
    "a>b\n",
    "#menor que\n",
    "a<b\n",
    "#mayor o igual\n",
    "a>=b\n",
    "#menor o igual\n",
    "a<=b\n",
    "\n",
    "#mini ejercicio: imprima el resultado de las comparaciones anteriores. qué tipo de variable es?\n",
    "\n",
    "\n",
    "#otros operadores de comparación: https://www.tutorialspoint.com/python/python_basic_operators.htm"
   ]
  },
  {
   "cell_type": "markdown",
   "metadata": {
    "id": "J4jl9fVRkiMx"
   },
   "source": [
    "CICLOS FOR"
   ]
  },
  {
   "cell_type": "code",
   "execution_count": null,
   "metadata": {
    "colab": {
     "base_uri": "https://localhost:8080/"
    },
    "id": "BvqLSNKOklNc",
    "outputId": "4015e863-4d76-4614-bc8b-49dc72104609"
   },
   "outputs": [
    {
     "name": "stdout",
     "output_type": "stream",
     "text": [
      "i:  0\n",
      "i:  1\n",
      "i:  2\n",
      "i:  3\n",
      "i:  4\n",
      "i:  5\n",
      "i:  6\n",
      "i:  7\n",
      "i:  8\n",
      "i:  9\n",
      "elemento:  2\n",
      "elemento:  3\n",
      "elemento:  4\n",
      "elemento:  5\n",
      "elemento:  6.0\n",
      "elemento:  gato\n"
     ]
    }
   ],
   "source": [
    "#ciclos con la función range\n",
    "for i in range(10):\n",
    "  print(\"i: \", i)\n",
    "\n",
    "#mini ejercicio: mire la documentación de range (por ejemplo acá: https://www.w3schools.com/python/ref_func_range.asp)\n",
    "# y haga que i vaya de -10 a 10 en pasos de 2.\n",
    "\n",
    "\n",
    "#ciclos recorriendo listas o arreglos\n",
    "\n",
    "lista4=[2,3,4,5,6.0,\"gato\"]\n",
    "for elemento in lista4:\n",
    "  print(\"elemento: \", elemento)\n",
    "\n"
   ]
  },
  {
   "cell_type": "markdown",
   "metadata": {
    "id": "cjtquhiSmVPG"
   },
   "source": [
    "NOTA IMPORTANTE!!! LA INDENTACIÓN SE UTILIZA PARA INDICAR QUÉ INSTRUCCIONES ESTÁN DENTRO DEL CICLO (O DENTRO DEL CONDICIONAL, O DENTRO DE LA FUNCION)...\n"
   ]
  },
  {
   "cell_type": "code",
   "execution_count": null,
   "metadata": {
    "colab": {
     "base_uri": "https://localhost:8080/"
    },
    "id": "IhZo-NqkmiP7",
    "outputId": "36f72527-c061-4547-f342-013d4739a1e3"
   },
   "outputs": [
    {
     "name": "stdout",
     "output_type": "stream",
     "text": [
      "j:  0\n",
      "j+2:  2\n",
      "j:  1\n",
      "j+2:  3\n",
      "j:  2\n",
      "j+2:  4\n",
      "k:  0\n",
      "k:  1\n",
      "k:  2\n",
      "k+2:  4\n"
     ]
    }
   ],
   "source": [
    "# mini ejercicio: pruebe los dos ciclos que están a continuación. Cuál es la diferencia?\n",
    "for j in range(3):\n",
    "  print(\"j: \", j)\n",
    "  print(\"j+2: \", j+2) #nota: cuidado con el copy paste!!!!\n",
    "\n",
    "for k in range(3):\n",
    "  print(\"k: \", k)\n",
    "print(\"k+2: \", k+2)"
   ]
  },
  {
   "cell_type": "markdown",
   "metadata": {
    "id": "c658PPBEjjC1"
   },
   "source": [
    "ARREGLOS DE NUMPY"
   ]
  },
  {
   "cell_type": "code",
   "execution_count": null,
   "metadata": {
    "colab": {
     "base_uri": "https://localhost:8080/"
    },
    "id": "hLFyyMipjCTv",
    "outputId": "afd0c66e-87bd-4e2e-cdd3-7e73182b8333"
   },
   "outputs": [
    {
     "name": "stdout",
     "output_type": "stream",
     "text": [
      "[0. 0. 0. 0. 0. 0. 0. 0. 0. 0.]\n",
      "[ -8.  -1.   0.   1.   8.  27.  64. 125. 216. 343.]\n"
     ]
    }
   ],
   "source": [
    "\n",
    "#numpy arrays\n",
    "\n",
    "#import la librería de numpy para poder usar arreglos\n",
    "import numpy as np\n",
    "\n",
    "#genero un arreglo de ceros de 10 elementos:\n",
    "arreglo=np.zeros(10)\n",
    "print(arreglo)\n",
    "\n",
    "#remplazo los ceros del arreglo por otro valor usando un ciclo (ver la celda de más adelante)\n",
    "for i in range(10):\n",
    "\tarreglo[i]=(i-2)**3\n",
    "print(arreglo)\n",
    "\n",
    "\n",
    "#mini ejercicio: multiplique el arreglo por 3 e imprima el resultado. Qué diferencia hay con las listas?"
   ]
  },
  {
   "cell_type": "markdown",
   "metadata": {
    "id": "EnyWAtI_r3-L"
   },
   "source": [
    "SLICING DE ARREGLOS DE NUMPY"
   ]
  },
  {
   "cell_type": "code",
   "execution_count": null,
   "metadata": {
    "colab": {
     "base_uri": "https://localhost:8080/"
    },
    "id": "ViEY8SI2r70D",
    "outputId": "65d8624f-6fee-43f0-881c-7ac5d29ec528"
   },
   "outputs": [
    {
     "name": "stdout",
     "output_type": "stream",
     "text": [
      "todo [ -8.  -1.   0.   1.   8.  27.  64. 125. 216. 343.]\n",
      "[1:3] [-1.  0.]\n",
      "[:3] [-8. -1.  0.]\n",
      "[3:] [  1.   8.  27.  64. 125. 216. 343.]\n",
      "[-3:] [125. 216. 343.]\n",
      "[3:-3] [ 1.  8. 27. 64.]\n",
      "[3:-3: 2] [ 1. 27.]\n"
     ]
    }
   ],
   "source": [
    "print(\"todo\", arreglo)\n",
    "print(\"[1:3]\", arreglo[1:3])\n",
    "print(\"[:3]\", arreglo[:3])\n",
    "print(\"[3:]\", arreglo[3:])\n",
    "print(\"[-3:]\", arreglo[-3:])\n",
    "print(\"[3:-3]\", arreglo[3: -3])\n",
    "print(\"[3:-3: 2]\", arreglo[3: -3: 2])"
   ]
  },
  {
   "cell_type": "markdown",
   "metadata": {
    "id": "g5NvjoTwnzam"
   },
   "source": [
    "CONDICIONALES"
   ]
  },
  {
   "cell_type": "code",
   "execution_count": null,
   "metadata": {
    "id": "lyy0hW69j_T-"
   },
   "outputs": [],
   "source": [
    "var1=17\n",
    "var2=25\n",
    "var3=13\n",
    "lista_var=[12, 45, 17, 13]\n",
    "\n",
    "#if else\n",
    "if(var1>=var2):\n",
    "\tprint(var1)\n",
    "else:\n",
    "\tprint(var2)\n",
    "\n",
    "#if elif else\n",
    "if(var1>=var3):\n",
    "\tprint(var1)\n",
    "elif(var2>=var3):\n",
    "\tprint(var2)\n",
    "else:\n",
    "\tprint(var3)\n",
    "\n",
    "\n",
    "# or y and\n",
    "\n",
    "if(var1>var3 and var2>var3):\n",
    "\tprint(var3)\n",
    "\n",
    "if(var1<var3 or var2<var3):\n",
    "\tprint(var3)\n",
    "\n",
    "\n",
    "# in y not\n",
    "if(var1 in lista_var):\n",
    "\tprint(\"verdadero\")\n",
    "\n",
    "\n",
    "if(var2 not in lista_var):\n",
    "\tprint(\"falso\")\n"
   ]
  },
  {
   "cell_type": "markdown",
   "metadata": {
    "id": "tHWwqHSNob6i"
   },
   "source": [
    "WHILE"
   ]
  },
  {
   "cell_type": "code",
   "execution_count": null,
   "metadata": {
    "id": "foUBkM3golWx"
   },
   "outputs": [],
   "source": [
    "#while\n",
    "\n",
    "j=10\n",
    "\n",
    "while(j<120):\n",
    "\tprint(j)\n",
    "\t#ojo:\n",
    "\tj+=15"
   ]
  },
  {
   "cell_type": "markdown",
   "metadata": {
    "id": "Yv_3W0Wpota0"
   },
   "source": [
    "FUNCIONES"
   ]
  },
  {
   "cell_type": "code",
   "execution_count": null,
   "metadata": {
    "colab": {
     "base_uri": "https://localhost:8080/"
    },
    "id": "QNIzW2N-ovU9",
    "outputId": "29ca108f-b20f-4dd5-ad20-f2c86950cef2"
   },
   "outputs": [
    {
     "name": "stdout",
     "output_type": "stream",
     "text": [
      "parametro1:  3\n",
      "resultado 16\n"
     ]
    }
   ],
   "source": [
    "#defino una función que llamo mi_funcion. Uso la indentación para indicar qué está dentro de mi función\n",
    "def mi_funcion(parametro1, parametro2):\n",
    "  #la función imprime el parametro1\n",
    "\tprint(\"parametro1= \", parametro1)\n",
    "  #la función retorna el parametro2\n",
    "\treturn parametro2**2\n",
    "\n",
    "#llamo mi mi funcion con los valores 3 y 4 y almaceno lo que retorna mi_funcion en la variable resultado\n",
    "resultado=mi_funcion(3,4)\n",
    "print(\"resultado\", resultado)\n",
    "\n",
    "#mini ejercicio: prueben qué pasa si quieren imprimir la variable parametro2 por fuera de la función"
   ]
  },
  {
   "cell_type": "markdown",
   "metadata": {
    "id": "9MBvGG6GuMMO"
   },
   "source": [
    "++++++++++++++++++++++++++++++++++++++++++ EJERCICIOS\n",
    " ++++++++++++++++++++++++++++++++++++++++++"
   ]
  },
  {
   "cell_type": "markdown",
   "metadata": {
    "id": "1jkBGl2buuan"
   },
   "source": [
    "EJERCICIO 1:"
   ]
  },
  {
   "cell_type": "code",
   "execution_count": 10,
   "metadata": {
    "colab": {
     "base_uri": "https://localhost:8080/"
    },
    "id": "WQxklqyOpaSK",
    "outputId": "3ea527c9-f48a-4fb7-d69d-1e71d4d5cef0"
   },
   "outputs": [
    {
     "name": "stdout",
     "output_type": "stream",
     "text": [
      "ejercicio 1\n",
      "La primera variable tine un valor de  7  y la segunda variable tiene un valor de  2.5\n",
      "El resultado es  0.35714285714285715\n",
      "lista:  [101, 26, 'rio', 'gato', 17, 45, 28]\n",
      "Elementos por ciclo: \n",
      "101\n",
      "26\n",
      "rio\n",
      "gato\n",
      "17\n",
      "45\n",
      "28\n",
      "257\n",
      "285\n",
      "583\n",
      "cuarto elemento:  gato\n",
      "la longitud de la lista es  10\n"
     ]
    }
   ],
   "source": [
    "#ejercicio 1\n",
    "\n",
    "print(\"ejercicio 1\")\n",
    "\n",
    "#a) Inicializar dos variables globales (con valores escogidos por ustedes), una entera y otra flotante.\\\\\n",
    "\n",
    "x = 7\n",
    "y = 2.5\n",
    "\n",
    "#b) Imprimir los valores de las variables en un mensaje: #\n",
    "#\"la primera tiene un valor de XX y la segunda variable tiene un valor de YY\"\n",
    "\n",
    "print(\"La primera variable tine un valor de \", x, \" y la segunda variable tiene un valor de \", y)\n",
    "\n",
    "#c) Calcular el valor de la segunda variable dividida por la primera e imprimir : \"El resultado es ZZ\"\n",
    "\n",
    "z = y/x\n",
    "print(\"El resultado es \", z)\n",
    "\n",
    "#d) Crear una lista con los elementos: 101, 26, rio, gato, 17, 45 y 28 e imprimirla.\n",
    "\n",
    "lista = [101, 26, \"rio\", \"gato\", 17, 45, 28]\n",
    "print(\"lista: \", lista)\n",
    "\n",
    "#e) Agregarle a esa lista los elementos: 257, 285, 583\n",
    "\n",
    "lista.append(257)\n",
    "lista.append(285)\n",
    "lista.append(583)\n",
    "\n",
    "#f) Hacer un ciclo para recorrer dicha lista e imprimir sus elementos.\n",
    "\n",
    "print(\"Elementos por ciclo: \")\n",
    "for item in lista:\n",
    "    print(item)\n",
    "\n",
    "#g) imprimir el cuarto elemento de la lista.\n",
    "\n",
    "print(\"cuarto elemento: \", lista[3])\n",
    "\n",
    "#h) Calcular la longitud de la lista e imprimir: \"la longitud de la lista es XX\" puede usar le función len()\n",
    "\n",
    "long = len(lista)\n",
    "print(\"la longitud de la lista es \", long)"
   ]
  },
  {
   "cell_type": "markdown",
   "metadata": {
    "id": "bu0z0nRLu64_"
   },
   "source": [
    "EJERCICIO 2:"
   ]
  },
  {
   "cell_type": "code",
   "execution_count": 6,
   "metadata": {
    "colab": {
     "base_uri": "https://localhost:8080/"
    },
    "id": "KWQfl16quw8o",
    "outputId": "a56c270c-9b15-47eb-c15c-69004385e423"
   },
   "outputs": [
    {
     "name": "stdout",
     "output_type": "stream",
     "text": [
      "arreglo x:  [356 519 740 113  41 846 304 154 728 612 112 856  35 599 657  21 808 409\n",
      "  90 815 669 745 758 564 223 587 518 254 116 284  16  96 444  98 380 833\n",
      " 179 852 587 868 697 418 575 479  66  45 487  41 507 163  57 410 231 173\n",
      " 166 360 779 289 111 506 711  30 461   3 638 379 480 113 777 804 881  56\n",
      " 218 644 328 539 117 157 848 128 172 404 515 745 769 318 871 709 325 869\n",
      " 460 537 835 204  84 648 693 380 576 497]\n",
      "519\n"
     ]
    }
   ],
   "source": [
    "# Complete el siguiente código para que:\n",
    "# recorra el arreglo `x`\n",
    "# imprima los números impares\n",
    "# y pare de imprimir al encontrar un número mayor a 700\n",
    "\n",
    "import numpy as np\n",
    "\n",
    "#genero un arreglo de número aleatorios:\n",
    "x=np.int_(np.random.random(100)*900)\n",
    "print(\"arreglo x: \", x)\n",
    "\n",
    "for num in x:\n",
    "    if num > 700:\n",
    "        break\n",
    "    elif num%2 == 1:\n",
    "        print(num)\n"
   ]
  },
  {
   "cell_type": "markdown",
   "metadata": {
    "id": "jWFl8rsZvKOT"
   },
   "source": [
    "EJERCICIO 3:"
   ]
  },
  {
   "cell_type": "code",
   "execution_count": 7,
   "metadata": {
    "colab": {
     "base_uri": "https://localhost:8080/"
    },
    "id": "GRWQWWDqvEf5",
    "outputId": "cbb64a5e-c1ce-41f1-cec3-a270d5d3d151"
   },
   "outputs": [
    {
     "name": "stdout",
     "output_type": "stream",
     "text": [
      "ejercicio 3\n",
      "180\n"
     ]
    }
   ],
   "source": [
    "#ejercicio 3\n",
    "print(\"ejercicio 3\")\n",
    "\n",
    "#Haga una función llamada multiplicación\n",
    "#que reciba como argumentos dos variables a y b y retorne a*b.\n",
    "#Imprima lo que retorna la función para a=10 y b=18\n",
    "\n",
    "def multiplicacion(a, b):\n",
    "    return a*b\n",
    "ab = multiplicacion(10, 18)\n",
    "print(ab)\n"
   ]
  },
  {
   "cell_type": "markdown",
   "metadata": {
    "id": "Lyvoe9jfv08k"
   },
   "source": [
    "EJERCICIO 4"
   ]
  },
  {
   "cell_type": "code",
   "execution_count": 8,
   "metadata": {
    "colab": {
     "base_uri": "https://localhost:8080/"
    },
    "id": "sOk7d-7evMIw",
    "outputId": "ba43e495-1d3d-434f-c2da-3f78403b6850"
   },
   "outputs": [
    {
     "name": "stdout",
     "output_type": "stream",
     "text": [
      "ejercicio 4\n",
      "np.min:  3 , minimo:  3\n"
     ]
    }
   ],
   "source": [
    "#ejercicio 4\n",
    "print(\"ejercicio 4\")\n",
    "# Complete el siguiente código para que:\n",
    "# recorra la lista x del ejercicio 2 y encuentre el mínimo de los elementos de la lista.\n",
    "#Compare su resultado con el obtenido por np.min e imprima un mensajito con ambos valores.\n",
    "\n",
    "minimo = x[0]\n",
    "for num in x:\n",
    "    if num < minimo:\n",
    "        minimo = num\n",
    "\n",
    "print(\"np.min: \", np.min(x), \", minimo: \", minimo)\n"
   ]
  },
  {
   "cell_type": "markdown",
   "metadata": {
    "id": "mHpcqMRNv7jv"
   },
   "source": [
    "EJERCICIO 5"
   ]
  },
  {
   "cell_type": "code",
   "execution_count": 11,
   "metadata": {
    "colab": {
     "base_uri": "https://localhost:8080/"
    },
    "id": "OBP4y_u1v6kz",
    "outputId": "4aac85ea-2ceb-4692-bb9d-ce75598aabaf"
   },
   "outputs": [
    {
     "name": "stdout",
     "output_type": "stream",
     "text": [
      "ejercicio 5\n",
      "arreglo x:  [513 629 331 623 123  33 603 836 499 801 660 517 337  72 135 715 316 492\n",
      " 131 102 705 365 437 381 182  77 134 271  83 407 881 158 880 537 717 364\n",
      " 124   7 131 719 295 423 426 675 198 252 125 392 673 784 155 372 814 182\n",
      "  87 121  53 176 201 384 186 305 352 838 667 176 230 798 732 425 290 559\n",
      " 315 288  23 573   0 750 898 764 395 167 457 454 484 240 749 176 541 152\n",
      " 568 123 797 608  41 425 556 465 334 304]\n",
      "lista resultante:  [1081  752 1128 1231  164  458 1159 1301  833 1105]\n"
     ]
    }
   ],
   "source": [
    "#ejercicio 5\n",
    "print(\"ejercicio 5\")\n",
    "#  sin usar ciclos, sume los 10 primeros elementos del arreglo x a los 10 últimos elementos del arreglo x. Imprima el arreglo resultante.\n",
    "import numpy as np\n",
    "\n",
    "#genero un arreglo de número aleatorios:\n",
    "x=np.int_(np.random.random(100)*900)\n",
    "print(\"arreglo x: \", x)\n",
    "\n",
    "list_sum = x[:10] + x[-10:]\n",
    "print(\"lista resultante: \", list_sum)\n",
    "\n"
   ]
  }
 ],
 "metadata": {
  "colab": {
   "provenance": []
  },
  "kernelspec": {
   "display_name": "Python 3",
   "language": "python",
   "name": "python3"
  },
  "language_info": {
   "codemirror_mode": {
    "name": "ipython",
    "version": 3
   },
   "file_extension": ".py",
   "mimetype": "text/x-python",
   "name": "python",
   "nbconvert_exporter": "python",
   "pygments_lexer": "ipython3",
   "version": "3.9.12 (main, Mar 24 2022, 14:26:47) \n[GCC 11.2.0]"
  },
  "vscode": {
   "interpreter": {
    "hash": "767d51c1340bd893661ea55ea3124f6de3c7a262a8b4abca0554b478b1e2ff90"
   }
  }
 },
 "nbformat": 4,
 "nbformat_minor": 0
}
